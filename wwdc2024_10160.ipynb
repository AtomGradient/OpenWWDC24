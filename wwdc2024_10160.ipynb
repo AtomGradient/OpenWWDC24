{
 "cells": [
  {
   "cell_type": "code",
   "execution_count": 1,
   "id": "7d06d85a-d73a-4969-a3e3-245bd9b28257",
   "metadata": {},
   "outputs": [
    {
     "name": "stdout",
     "output_type": "stream",
     "text": [
      "tensor([1.], device='mps:0')\n",
      "Uneasy lies the head that wears a crown.\n",
      "- William Shakespeare\n",
      "The head of the family is the most important person in the world\n"
     ]
    }
   ],
   "source": [
    "import torch\n",
    "import random\n",
    "random.seed(42)\n",
    "torch.manual_seed(42)\n",
    "from transformers import LlamaTokenizer, LlamaForCausalLM \n",
    "\n",
    "if torch.backends.mps.is_available():\n",
    "    mps_device = torch.device(\"mps\")\n",
    "    x = torch.ones(1, device=mps_device)\n",
    "    print (x)\n",
    "else:\n",
    "    print (\"MPS device not found.\")\n",
    "\n",
    "model_path ='openlm-research/open_llama_3b_v2'\n",
    "tokenizer = LlamaTokenizer.from_pretrained(model_path, legacy=True)\n",
    "base_model =LlamaForCausalLM.from_pretrained(model_path)\n",
    "\n",
    "\n",
    "from peft import LoraConfig, PeftModel\n",
    "lora_config = LoraConfig(\n",
    "    r=64,\n",
    "    lora_alpha=32,\n",
    "    lora_dropout=0.05,\n",
    "    bias=\"none\",\n",
    "    task_type=\"CAUSAL_LM\"\n",
    ")\n",
    "model = PeftModel(base_model,lora_config,adapter_name=\"Shakespeare\")\n",
    "device = torch.device(\"mps\")\n",
    "model.to(device)\n",
    "\n",
    "def generate_response(prompt_text, model, tokenizer, max_length=30, num_return_sequences=1):\n",
    "    input_ids = tokenizer.encode(prompt_text, return_tensors=\"pt\").to(device)\n",
    "    attention_mask = torch.ones(input_ids.shape, device=input_ids.device)\n",
    "    \n",
    "    output_sequences = model.generate(\n",
    "        input_ids=input_ids,\n",
    "        max_length=max_length,\n",
    "        attention_mask=attention_mask,\n",
    "        num_return_sequences=num_return_sequences,\n",
    "        no_repeat_ngram_size=2,\n",
    "    )\n",
    "    \n",
    "    responses =[]\n",
    "    for response_id in output_sequences:\n",
    "        response = tokenizer.decode(response_id, skip_special_tokens=True)\n",
    "        responses.append(response)\n",
    "        \n",
    "    return responses\n",
    "\n",
    "prompt_text = \"Uneasy lies the head that wears a crown.\"\n",
    "responses = generate_response(prompt_text, model, tokenizer)\n",
    "for response in responses:\n",
    "    print(response)"
   ]
  },
  {
   "cell_type": "code",
   "execution_count": 2,
   "id": "eee7e8ce-a39f-4dc6-b4ab-0b5d24b79070",
   "metadata": {},
   "outputs": [
    {
     "name": "stderr",
     "output_type": "stream",
     "text": [
      "/Library/Frameworks/Python.framework/Versions/3.11/lib/python3.11/site-packages/transformers/data/datasets/language_modeling.py:53: FutureWarning: This dataset will be removed from the library soon, preprocessing should be handled with the 🤗 Datasets library. You can have a look at this example script for pointers: https://github.com/huggingface/transformers/blob/main/examples/pytorch/language-modeling/run_mlm.py\n",
      "  warnings.warn(\n"
     ]
    }
   ],
   "source": [
    "# 配置数据集\n",
    "import os \n",
    "import requests\n",
    "file_name=\"shakespeare.txt\"\n",
    "url = \"https://raw.githubusercontent.com/karpathy/char-rnn/master/data/tinyshakespeare/input.txt\"\n",
    "if not os.path.isfile(file_name):\n",
    "    data = requests.get(url)\n",
    "    with open(file_name, 'w') as f:\n",
    "        f.write(data.text)\n",
    "from transformers import TextDataset\n",
    "train_dataset = TextDataset(tokenizer=tokenizer, file_path=file_name, block_size=128)[:256]"
   ]
  },
  {
   "cell_type": "code",
   "execution_count": 3,
   "id": "53d9c0ec-6f67-4369-9370-5ba5dfefbc25",
   "metadata": {},
   "outputs": [
    {
     "name": "stderr",
     "output_type": "stream",
     "text": [
      "/Library/Frameworks/Python.framework/Versions/3.11/lib/python3.11/site-packages/transformers/training_args.py:1474: FutureWarning: `evaluation_strategy` is deprecated and will be removed in version 4.46 of 🤗 Transformers. Use `eval_strategy` instead\n",
      "  warnings.warn(\n"
     ]
    }
   ],
   "source": [
    "# training\n",
    "from transformers import Trainer, TrainingArguments\n",
    "training_args = TrainingArguments(\n",
    "    output_dir=\"out_put\",\n",
    "    overwrite_output_dir=True,\n",
    "    num_train_epochs=10,\n",
    "    per_device_eval_batch_size=32,\n",
    "    evaluation_strategy='no'\n",
    ")\n",
    "\n",
    "from transformers import DataCollatorForLanguageModeling\n",
    "data_collator = DataCollatorForLanguageModeling(tokenizer=tokenizer,mlm=False)\n",
    "trainer = Trainer(\n",
    "    model=model,\n",
    "    args=training_args,\n",
    "    data_collator=data_collator,\n",
    "    train_dataset=train_dataset,\n",
    ")"
   ]
  },
  {
   "cell_type": "code",
   "execution_count": 4,
   "id": "d8ee5ac1-8499-4725-a56c-40fa131fa1d4",
   "metadata": {},
   "outputs": [
    {
     "name": "stderr",
     "output_type": "stream",
     "text": [
      "\u001b[34m\u001b[1mwandb\u001b[0m: \u001b[33mWARNING\u001b[0m The `run_name` is currently set to the same value as `TrainingArguments.output_dir`. If this was not intended, please specify a different run name by setting the `TrainingArguments.run_name` parameter.\n",
      "\u001b[34m\u001b[1mwandb\u001b[0m: Currently logged in as: \u001b[33mws169144\u001b[0m. Use \u001b[1m`wandb login --relogin`\u001b[0m to force relogin\n"
     ]
    },
    {
     "data": {
      "application/vnd.jupyter.widget-view+json": {
       "model_id": "beaf1cedd7f34223bb8b5d1088b3f860",
       "version_major": 2,
       "version_minor": 0
      },
      "text/plain": [
       "VBox(children=(Label(value='Waiting for wandb.init()...\\r'), FloatProgress(value=0.011125597222255439, max=1.0…"
      ]
     },
     "metadata": {},
     "output_type": "display_data"
    },
    {
     "data": {
      "text/html": [
       "Tracking run with wandb version 0.17.1"
      ],
      "text/plain": [
       "<IPython.core.display.HTML object>"
      ]
     },
     "metadata": {},
     "output_type": "display_data"
    },
    {
     "data": {
      "text/html": [
       "Run data is saved locally in <code>/Users/alex/Documents/Codes/nanogpt2/wandb/run-20240614_181000-x4c9wq42</code>"
      ],
      "text/plain": [
       "<IPython.core.display.HTML object>"
      ]
     },
     "metadata": {},
     "output_type": "display_data"
    },
    {
     "data": {
      "text/html": [
       "Syncing run <strong><a href='https://wandb.ai/ws169144/huggingface/runs/x4c9wq42' target=\"_blank\">out_put</a></strong> to <a href='https://wandb.ai/ws169144/huggingface' target=\"_blank\">Weights & Biases</a> (<a href='https://wandb.me/run' target=\"_blank\">docs</a>)<br/>"
      ],
      "text/plain": [
       "<IPython.core.display.HTML object>"
      ]
     },
     "metadata": {},
     "output_type": "display_data"
    },
    {
     "data": {
      "text/html": [
       " View project at <a href='https://wandb.ai/ws169144/huggingface' target=\"_blank\">https://wandb.ai/ws169144/huggingface</a>"
      ],
      "text/plain": [
       "<IPython.core.display.HTML object>"
      ]
     },
     "metadata": {},
     "output_type": "display_data"
    },
    {
     "data": {
      "text/html": [
       " View run at <a href='https://wandb.ai/ws169144/huggingface/runs/x4c9wq42' target=\"_blank\">https://wandb.ai/ws169144/huggingface/runs/x4c9wq42</a>"
      ],
      "text/plain": [
       "<IPython.core.display.HTML object>"
      ]
     },
     "metadata": {},
     "output_type": "display_data"
    },
    {
     "data": {
      "text/html": [
       "\n",
       "    <div>\n",
       "      \n",
       "      <progress value='320' max='320' style='width:300px; height:20px; vertical-align: middle;'></progress>\n",
       "      [320/320 21:29, Epoch 10/10]\n",
       "    </div>\n",
       "    <table border=\"1\" class=\"dataframe\">\n",
       "  <thead>\n",
       " <tr style=\"text-align: left;\">\n",
       "      <th>Step</th>\n",
       "      <th>Training Loss</th>\n",
       "    </tr>\n",
       "  </thead>\n",
       "  <tbody>\n",
       "  </tbody>\n",
       "</table><p>"
      ],
      "text/plain": [
       "<IPython.core.display.HTML object>"
      ]
     },
     "metadata": {},
     "output_type": "display_data"
    },
    {
     "data": {
      "text/plain": [
       "TrainOutput(global_step=320, training_loss=2.709520721435547, metrics={'train_runtime': 1315.7902, 'train_samples_per_second': 1.946, 'train_steps_per_second': 0.243, 'total_flos': 6577270554624000.0, 'train_loss': 2.709520721435547, 'epoch': 10.0})"
      ]
     },
     "execution_count": 4,
     "metadata": {},
     "output_type": "execute_result"
    }
   ],
   "source": [
    "trainer.train()"
   ]
  },
  {
   "cell_type": "code",
   "execution_count": 5,
   "id": "c31047e1-52ca-498e-9c79-a338a2eddc96",
   "metadata": {},
   "outputs": [
    {
     "name": "stdout",
     "output_type": "stream",
     "text": [
      "Uneasy lies the head that wears a crown.\n",
      "\n",
      "MENENIUS:\n",
      "I'll not be a fool,\n",
      "\n"
     ]
    }
   ],
   "source": [
    "prompt_text = \"Uneasy lies the head that wears a crown.\"\n",
    "responses = generate_response(prompt_text, model, tokenizer)\n",
    "for response in responses:\n",
    "    print(response)"
   ]
  },
  {
   "cell_type": "code",
   "execution_count": 6,
   "id": "9b39eb25-f556-4332-aeba-f7f222805de4",
   "metadata": {},
   "outputs": [],
   "source": [
    "save_path =\"merged_fine_tuned_openllama2_3b_shakespeare_m1max\"\n",
    "tokenizer.save_pretrained(save_path)\n",
    "merged_model = model.merge_and_unload()\n",
    "merged_model.save_pretrained(save_path)"
   ]
  }
 ],
 "metadata": {
  "kernelspec": {
   "display_name": "Python 3 (ipykernel)",
   "language": "python",
   "name": "python3"
  },
  "language_info": {
   "codemirror_mode": {
    "name": "ipython",
    "version": 3
   },
   "file_extension": ".py",
   "mimetype": "text/x-python",
   "name": "python",
   "nbconvert_exporter": "python",
   "pygments_lexer": "ipython3",
   "version": "3.11.5"
  }
 },
 "nbformat": 4,
 "nbformat_minor": 5
}
